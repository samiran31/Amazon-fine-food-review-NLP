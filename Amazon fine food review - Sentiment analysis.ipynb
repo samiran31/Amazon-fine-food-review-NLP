{
 "cells": [
  {
   "cell_type": "markdown",
   "metadata": {},
   "source": [
    "https://www.kaggle.com/laowingkin/amazon-fine-food-review-sentiment-analysis"
   ]
  },
  {
   "cell_type": "markdown",
   "metadata": {},
   "source": [
    "# Amazon fine food review - Sentiment analysis"
   ]
  },
  {
   "cell_type": "markdown",
   "metadata": {},
   "source": [
    "The analysis is to study Amazon food review from customers, and try to predict whether a review is positive or negative. The dataset contains more than 500K reviews with number of upvotes & total votes to those comments."
   ]
  },
  {
   "cell_type": "markdown",
   "metadata": {},
   "source": [
    "# Table of Content"
   ]
  },
  {
   "cell_type": "markdown",
   "metadata": {},
   "source": [
    "Data preparation\n",
    "\n",
    "Score prediction\n",
    "\n",
    "Logistic regression model on word count\n",
    "\n",
    "Logistic regression model on TFIDF\n",
    "\n",
    "Logistic regression model on TFIDF + ngram\n",
    "\n",
    "Upvote prediction\n",
    "\n",
    "Data preview\n",
    "\n",
    "Resampling due to imbalanced data\n",
    "\n",
    "Logistic regression model on word count\n",
    "\n",
    "Logistic regression model on TFIDF + ngram\n",
    "\n",
    "Study on non-context features\n",
    "\n",
    "In-depth study on user behaviour (Edit on 2017/10/18)"
   ]
  },
  {
   "cell_type": "markdown",
   "metadata": {},
   "source": [
    "# Data preparation"
   ]
  },
  {
   "cell_type": "code",
   "execution_count": 1,
   "metadata": {},
   "outputs": [],
   "source": [
    "import pandas as pd\n",
    "import numpy as np\n",
    "import matplotlib.pyplot as plt\n",
    "import seaborn as sns\n",
    "from sklearn.feature_extraction.text import CountVectorizer\n",
    "from sklearn.feature_extraction.text import TfidfVectorizer\n",
    "from sklearn.linear_model import LogisticRegression\n",
    "from sklearn.model_selection import train_test_split\n",
    "from sklearn.dummy import DummyClassifier\n",
    "from string import punctuation\n",
    "from sklearn import svm\n",
    "from nltk.corpus import stopwords\n",
    "from nltk.stem import WordNetLemmatizer\n",
    "import nltk\n",
    "from nltk import ngrams\n",
    "from itertools import chain\n",
    "from wordcloud import WordCloud\n"
   ]
  },
  {
   "cell_type": "code",
   "execution_count": 2,
   "metadata": {},
   "outputs": [
    {
     "data": {
      "text/html": [
       "<div>\n",
       "<style scoped>\n",
       "    .dataframe tbody tr th:only-of-type {\n",
       "        vertical-align: middle;\n",
       "    }\n",
       "\n",
       "    .dataframe tbody tr th {\n",
       "        vertical-align: top;\n",
       "    }\n",
       "\n",
       "    .dataframe thead th {\n",
       "        text-align: right;\n",
       "    }\n",
       "</style>\n",
       "<table border=\"1\" class=\"dataframe\">\n",
       "  <thead>\n",
       "    <tr style=\"text-align: right;\">\n",
       "      <th></th>\n",
       "      <th>Id</th>\n",
       "      <th>ProductId</th>\n",
       "      <th>UserId</th>\n",
       "      <th>ProfileName</th>\n",
       "      <th>HelpfulnessNumerator</th>\n",
       "      <th>HelpfulnessDenominator</th>\n",
       "      <th>Score</th>\n",
       "      <th>Time</th>\n",
       "      <th>Summary</th>\n",
       "      <th>Text</th>\n",
       "      <th>Helpful %</th>\n",
       "      <th>% Upvote</th>\n",
       "    </tr>\n",
       "  </thead>\n",
       "  <tbody>\n",
       "    <tr>\n",
       "      <th>0</th>\n",
       "      <td>1</td>\n",
       "      <td>B001E4KFG0</td>\n",
       "      <td>A3SGXH7AUHU8GW</td>\n",
       "      <td>delmartian</td>\n",
       "      <td>1</td>\n",
       "      <td>1</td>\n",
       "      <td>5</td>\n",
       "      <td>1303862400</td>\n",
       "      <td>Good Quality Dog Food</td>\n",
       "      <td>I have bought several of the Vitality canned d...</td>\n",
       "      <td>1.0</td>\n",
       "      <td>80-100%</td>\n",
       "    </tr>\n",
       "    <tr>\n",
       "      <th>1</th>\n",
       "      <td>2</td>\n",
       "      <td>B00813GRG4</td>\n",
       "      <td>A1D87F6ZCVE5NK</td>\n",
       "      <td>dll pa</td>\n",
       "      <td>0</td>\n",
       "      <td>0</td>\n",
       "      <td>1</td>\n",
       "      <td>1346976000</td>\n",
       "      <td>Not as Advertised</td>\n",
       "      <td>Product arrived labeled as Jumbo Salted Peanut...</td>\n",
       "      <td>-1.0</td>\n",
       "      <td>Empty</td>\n",
       "    </tr>\n",
       "    <tr>\n",
       "      <th>2</th>\n",
       "      <td>3</td>\n",
       "      <td>B000LQOCH0</td>\n",
       "      <td>ABXLMWJIXXAIN</td>\n",
       "      <td>Natalia Corres \"Natalia Corres\"</td>\n",
       "      <td>1</td>\n",
       "      <td>1</td>\n",
       "      <td>4</td>\n",
       "      <td>1219017600</td>\n",
       "      <td>\"Delight\" says it all</td>\n",
       "      <td>This is a confection that has been around a fe...</td>\n",
       "      <td>1.0</td>\n",
       "      <td>80-100%</td>\n",
       "    </tr>\n",
       "    <tr>\n",
       "      <th>3</th>\n",
       "      <td>4</td>\n",
       "      <td>B000UA0QIQ</td>\n",
       "      <td>A395BORC6FGVXV</td>\n",
       "      <td>Karl</td>\n",
       "      <td>3</td>\n",
       "      <td>3</td>\n",
       "      <td>2</td>\n",
       "      <td>1307923200</td>\n",
       "      <td>Cough Medicine</td>\n",
       "      <td>If you are looking for the secret ingredient i...</td>\n",
       "      <td>1.0</td>\n",
       "      <td>80-100%</td>\n",
       "    </tr>\n",
       "    <tr>\n",
       "      <th>4</th>\n",
       "      <td>5</td>\n",
       "      <td>B006K2ZZ7K</td>\n",
       "      <td>A1UQRSCLF8GW1T</td>\n",
       "      <td>Michael D. Bigham \"M. Wassir\"</td>\n",
       "      <td>0</td>\n",
       "      <td>0</td>\n",
       "      <td>5</td>\n",
       "      <td>1350777600</td>\n",
       "      <td>Great taffy</td>\n",
       "      <td>Great taffy at a great price.  There was a wid...</td>\n",
       "      <td>-1.0</td>\n",
       "      <td>Empty</td>\n",
       "    </tr>\n",
       "  </tbody>\n",
       "</table>\n",
       "</div>"
      ],
      "text/plain": [
       "   Id   ProductId          UserId                      ProfileName  \\\n",
       "0   1  B001E4KFG0  A3SGXH7AUHU8GW                       delmartian   \n",
       "1   2  B00813GRG4  A1D87F6ZCVE5NK                           dll pa   \n",
       "2   3  B000LQOCH0   ABXLMWJIXXAIN  Natalia Corres \"Natalia Corres\"   \n",
       "3   4  B000UA0QIQ  A395BORC6FGVXV                             Karl   \n",
       "4   5  B006K2ZZ7K  A1UQRSCLF8GW1T    Michael D. Bigham \"M. Wassir\"   \n",
       "\n",
       "   HelpfulnessNumerator  HelpfulnessDenominator  Score        Time  \\\n",
       "0                     1                       1      5  1303862400   \n",
       "1                     0                       0      1  1346976000   \n",
       "2                     1                       1      4  1219017600   \n",
       "3                     3                       3      2  1307923200   \n",
       "4                     0                       0      5  1350777600   \n",
       "\n",
       "                 Summary                                               Text  \\\n",
       "0  Good Quality Dog Food  I have bought several of the Vitality canned d...   \n",
       "1      Not as Advertised  Product arrived labeled as Jumbo Salted Peanut...   \n",
       "2  \"Delight\" says it all  This is a confection that has been around a fe...   \n",
       "3         Cough Medicine  If you are looking for the secret ingredient i...   \n",
       "4            Great taffy  Great taffy at a great price.  There was a wid...   \n",
       "\n",
       "   Helpful % % Upvote  \n",
       "0        1.0  80-100%  \n",
       "1       -1.0    Empty  \n",
       "2        1.0  80-100%  \n",
       "3        1.0  80-100%  \n",
       "4       -1.0    Empty  "
      ]
     },
     "execution_count": 2,
     "metadata": {},
     "output_type": "execute_result"
    }
   ],
   "source": [
    "odf = pd.read_csv('Reviews.csv')\n",
    "odf['Helpful %'] = np.where(odf['HelpfulnessDenominator'] > 0, odf['HelpfulnessNumerator'] / odf['HelpfulnessDenominator'], -1)\n",
    "odf['% Upvote'] = pd.cut(odf['Helpful %'], bins = [-1, 0, 0.2, 0.4, 0.6, 0.8, 1.0], labels = ['Empty', '0-20%', '20-40%', '40-60%', '60-80%', '80-100%'], include_lowest = True)\n",
    "odf.head()"
   ]
  },
  {
   "cell_type": "code",
   "execution_count": 3,
   "metadata": {},
   "outputs": [
    {
     "data": {
      "text/plain": [
       "Text(0.5,1,'How helpful users find among user scores')"
      ]
     },
     "execution_count": 3,
     "metadata": {},
     "output_type": "execute_result"
    },
    {
     "data": {
      "image/png": "[encoded data removed]",
      "text/plain": [
       "<Figure size 1080x720 with 2 Axes>"
      ]
     },
     "metadata": {
      "needs_background": "light"
     },
     "output_type": "display_data"
    }
   ],
   "source": [
    "df_s = odf.groupby(['Score', '% Upvote']).agg({'Id': 'count'})\n",
    "df_s = df_s.unstack()\n",
    "df_s.columns = df_s.columns.get_level_values(1)\n",
    "fig = plt.figure(figsize=(15,10))\n",
    "\n",
    "sns.heatmap(df_s[df_s.columns[::-1]].T, cmap = 'YlGnBu', linewidths=.5, annot = True, fmt = 'd', cbar_kws={'label': '# reviews'})\n",
    "plt.yticks(rotation=0)\n",
    "plt.title('How helpful users find among user scores')"
   ]
  },
  {
   "cell_type": "markdown",
   "metadata": {},
   "source": [
    "Key message from above:\n",
    "\n",
    "Reviews are skewed towards positive\n",
    "\n",
    "More than half of the reviews are with zero votes\n",
    "\n",
    "Many people agree with score 5 reviews"
   ]
  },
  {
   "cell_type": "code",
   "execution_count": 4,
   "metadata": {},
   "outputs": [
    {
     "data": {
      "text/html": [
       "<div>\n",
       "<style scoped>\n",
       "    .dataframe tbody tr th:only-of-type {\n",
       "        vertical-align: middle;\n",
       "    }\n",
       "\n",
       "    .dataframe tbody tr th {\n",
       "        vertical-align: top;\n",
       "    }\n",
       "\n",
       "    .dataframe thead th {\n",
       "        text-align: right;\n",
       "    }\n",
       "</style>\n",
       "<table border=\"1\" class=\"dataframe\">\n",
       "  <thead>\n",
       "    <tr style=\"text-align: right;\">\n",
       "      <th>% Upvote</th>\n",
       "      <th>Empty</th>\n",
       "      <th>0-20%</th>\n",
       "      <th>20-40%</th>\n",
       "      <th>40-60%</th>\n",
       "      <th>60-80%</th>\n",
       "      <th>80-100%</th>\n",
       "    </tr>\n",
       "    <tr>\n",
       "      <th>Score</th>\n",
       "      <th></th>\n",
       "      <th></th>\n",
       "      <th></th>\n",
       "      <th></th>\n",
       "      <th></th>\n",
       "      <th></th>\n",
       "    </tr>\n",
       "  </thead>\n",
       "  <tbody>\n",
       "    <tr>\n",
       "      <th>1</th>\n",
       "      <td>20326</td>\n",
       "      <td>2338</td>\n",
       "      <td>4649</td>\n",
       "      <td>6586</td>\n",
       "      <td>5838</td>\n",
       "      <td>12531</td>\n",
       "    </tr>\n",
       "    <tr>\n",
       "      <th>2</th>\n",
       "      <td>14838</td>\n",
       "      <td>762</td>\n",
       "      <td>1618</td>\n",
       "      <td>3051</td>\n",
       "      <td>2486</td>\n",
       "      <td>7014</td>\n",
       "    </tr>\n",
       "    <tr>\n",
       "      <th>3</th>\n",
       "      <td>23485</td>\n",
       "      <td>474</td>\n",
       "      <td>1506</td>\n",
       "      <td>3384</td>\n",
       "      <td>2754</td>\n",
       "      <td>11037</td>\n",
       "    </tr>\n",
       "    <tr>\n",
       "      <th>4</th>\n",
       "      <td>46796</td>\n",
       "      <td>116</td>\n",
       "      <td>909</td>\n",
       "      <td>3185</td>\n",
       "      <td>2941</td>\n",
       "      <td>26707</td>\n",
       "    </tr>\n",
       "    <tr>\n",
       "      <th>5</th>\n",
       "      <td>198381</td>\n",
       "      <td>432</td>\n",
       "      <td>2275</td>\n",
       "      <td>10312</td>\n",
       "      <td>11060</td>\n",
       "      <td>140661</td>\n",
       "    </tr>\n",
       "  </tbody>\n",
       "</table>\n",
       "</div>"
      ],
      "text/plain": [
       "% Upvote   Empty  0-20%  20-40%  40-60%  60-80%  80-100%\n",
       "Score                                                   \n",
       "1          20326   2338    4649    6586    5838    12531\n",
       "2          14838    762    1618    3051    2486     7014\n",
       "3          23485    474    1506    3384    2754    11037\n",
       "4          46796    116     909    3185    2941    26707\n",
       "5         198381    432    2275   10312   11060   140661"
      ]
     },
     "execution_count": 4,
     "metadata": {},
     "output_type": "execute_result"
    }
   ],
   "source": [
    "df_s"
   ]
  },
  {
   "cell_type": "code",
   "execution_count": 5,
   "metadata": {},
   "outputs": [],
   "source": [
    "df = odf[odf['Score'] != 3]\n",
    "X = df['Text']\n",
    "y_dict = {1:0, 2:0, 4:1, 5:1}\n",
    "y = df['Score'].map(y_dict)"
   ]
  },
  {
   "cell_type": "markdown",
   "metadata": {},
   "source": [
    "# Score prediction"
   ]
  },
  {
   "cell_type": "code",
   "execution_count": 12,
   "metadata": {},
   "outputs": [
    {
     "data": {
      "text/plain": [
       "(154428,)"
      ]
     },
     "execution_count": 12,
     "metadata": {},
     "output_type": "execute_result"
    }
   ],
   "source": [
    "X.shape"
   ]
  },
  {
   "cell_type": "code",
   "execution_count": 14,
   "metadata": {},
   "outputs": [
    {
     "data": {
      "text/plain": [
       "1    151721\n",
       "0      2707\n",
       "Name: % Upvote, dtype: int64"
      ]
     },
     "execution_count": 14,
     "metadata": {},
     "output_type": "execute_result"
    }
   ],
   "source": [
    "y.value_counts()"
   ]
  },
  {
   "cell_type": "markdown",
   "metadata": {},
   "source": [
    "Logistic regression model on word count\n"
   ]
  },
  {
   "cell_type": "code",
   "execution_count": 6,
   "metadata": {},
   "outputs": [
    {
     "name": "stdout",
     "output_type": "stream",
     "text": [
      "# features: 114969\n",
      "# train records: 394360\n",
      "# test records: 131454\n"
     ]
    },
    {
     "name": "stderr",
     "output_type": "stream",
     "text": [
      "C:\\Users\\emondsa\\AppData\\Local\\Continuum\\anaconda3\\lib\\site-packages\\sklearn\\linear_model\\logistic.py:432: FutureWarning: Default solver will be changed to 'lbfgs' in 0.22. Specify a solver to silence this warning.\n",
      "  FutureWarning)\n",
      "C:\\Users\\emondsa\\AppData\\Local\\Continuum\\anaconda3\\lib\\site-packages\\sklearn\\svm\\base.py:929: ConvergenceWarning: Liblinear failed to converge, increase the number of iterations.\n",
      "  \"the number of iterations.\", ConvergenceWarning)\n"
     ]
    },
    {
     "name": "stdout",
     "output_type": "stream",
     "text": [
      "Model Accuracy: 0.9387085976843611\n",
      "\n",
      "-Top 20 positive-\n",
      "Coefficient           Word\n",
      "   3.328455     pleasantly\n",
      "   3.198078  emeraldforest\n",
      "   3.017748        chedder\n",
      "   2.562048        easiest\n",
      "   2.452307        solving\n",
      "   2.442939        blowout\n",
      "   2.371637       heartier\n",
      "   2.370786      addicting\n",
      "   2.297525     unwrapping\n",
      "   2.295164          herrs\n",
      "   2.291846       drawback\n",
      "   2.290115         hooked\n",
      "   2.281839         skewed\n",
      "   2.261691         hahaha\n",
      "   2.249722       downside\n",
      "   2.237218     correction\n",
      "   2.192934          whisk\n",
      "   2.188074         ration\n",
      "   2.186462         bertie\n",
      "   2.168194     dishwasher\n",
      "\n",
      "-Top 20 negative-\n",
      "Coefficient           Word\n",
      "  -2.465560     unfinished\n",
      "  -2.491154       tastless\n",
      "  -2.597662        weakest\n",
      "  -2.607482      overrated\n",
      "  -2.692474      cancelled\n",
      "  -2.730141    unappealing\n",
      "  -2.741285        furious\n",
      "  -2.752452     oversalted\n",
      "  -2.821854      deceptive\n",
      "  -2.822357  disappointing\n",
      "  -2.825763    undrinkable\n",
      "  -2.828221    embarrassed\n",
      "  -2.871955      redeeming\n",
      "  -2.891527          worst\n",
      "  -2.917076  dissapointing\n",
      "  -2.947598            ick\n",
      "  -2.959041          budda\n",
      "  -2.978551          280mg\n",
      "  -3.030598        3095826\n",
      "  -3.291082   unacceptable\n"
     ]
    }
   ],
   "source": [
    "c = CountVectorizer(stop_words = 'english')\n",
    "\n",
    "def text_fit(X, y, model,clf_model,coef_show=1):\n",
    "    \n",
    "    X_c = model.fit_transform(X)\n",
    "    print('# features: {}'.format(X_c.shape[1]))\n",
    "    X_train, X_test, y_train, y_test = train_test_split(X_c, y, random_state=0)\n",
    "    print('# train records: {}'.format(X_train.shape[0]))\n",
    "    print('# test records: {}'.format(X_test.shape[0]))\n",
    "    clf = clf_model.fit(X_train, y_train)\n",
    "    acc = clf.score(X_test, y_test)\n",
    "    print ('Model Accuracy: {}'.format(acc))\n",
    "    \n",
    "    if coef_show == 1: \n",
    "        w = model.get_feature_names()\n",
    "        coef = clf.coef_.tolist()[0]\n",
    "        coeff_df = pd.DataFrame({'Word' : w, 'Coefficient' : coef})\n",
    "        coeff_df = coeff_df.sort_values(['Coefficient', 'Word'], ascending=[0, 1])\n",
    "        print('')\n",
    "        print('-Top 20 positive-')\n",
    "        print(coeff_df.head(20).to_string(index=False))\n",
    "        print('')\n",
    "        print('-Top 20 negative-')        \n",
    "        print(coeff_df.tail(20).to_string(index=False))\n",
    "    \n",
    "    \n",
    "text_fit(X, y, c, LogisticRegression())"
   ]
  },
  {
   "cell_type": "markdown",
   "metadata": {},
   "source": [
    "Accuracy is around 93.9% - not bad. However we notice that some of those significant coefficients are not meaningful, e.g. 280mg.\n",
    "\n",
    "Let's also look at the base line accuracy (predicting with majority class, in this case positive class):"
   ]
  },
  {
   "cell_type": "code",
   "execution_count": 7,
   "metadata": {},
   "outputs": [
    {
     "name": "stdout",
     "output_type": "stream",
     "text": [
      "# features: 114969\n",
      "# train records: 394360\n",
      "# test records: 131454\n",
      "Model Accuracy: 0.7359152250977529\n"
     ]
    }
   ],
   "source": [
    "text_fit(X, y, c, DummyClassifier(),0)"
   ]
  },
  {
   "cell_type": "markdown",
   "metadata": {},
   "source": [
    "# Logistic regression model on TFIDF"
   ]
  },
  {
   "cell_type": "code",
   "execution_count": 8,
   "metadata": {},
   "outputs": [
    {
     "name": "stdout",
     "output_type": "stream",
     "text": [
      "# features: 114969\n",
      "# train records: 394360\n",
      "# test records: 131454\n",
      "Model Accuracy: 0.9346691618360795\n",
      "\n",
      "-Top 20 positive-\n",
      "Coefficient        Word\n",
      "  13.722046       great\n",
      "  12.152403   delicious\n",
      "  12.013716        best\n",
      "  10.606932     perfect\n",
      "   9.860662   excellent\n",
      "   9.583118       loves\n",
      "   9.037644      highly\n",
      "   8.363588        love\n",
      "   7.965187   wonderful\n",
      "   7.797099     amazing\n",
      "   7.629215     awesome\n",
      "   7.339744        good\n",
      "   7.242570  pleasantly\n",
      "   7.188672        nice\n",
      "   7.019284      hooked\n",
      "   6.954268       yummy\n",
      "   6.941714    favorite\n",
      "   6.931324     pleased\n",
      "   6.884063      smooth\n",
      "   6.721716   fantastic\n",
      "\n",
      "-Top 20 negative-\n",
      "Coefficient            Word\n",
      "  -5.624625           waste\n",
      "  -5.720375            poor\n",
      "  -5.722123     undrinkable\n",
      "  -6.010274            yuck\n",
      "  -6.152047           stale\n",
      "  -6.281935           worse\n",
      "  -6.323420           bland\n",
      "  -6.556099      disgusting\n",
      "  -6.563135            weak\n",
      "  -6.688471          return\n",
      "  -6.733337           threw\n",
      "  -6.838208       tasteless\n",
      "  -7.437968   unfortunately\n",
      "  -7.793644        horrible\n",
      "  -8.149216           awful\n",
      "  -8.312427  disappointment\n",
      "  -8.492164    disappointed\n",
      "  -9.263025        terrible\n",
      " -10.117344   disappointing\n",
      " -11.710427           worst\n"
     ]
    }
   ],
   "source": [
    "tfidf = TfidfVectorizer(stop_words = 'english')\n",
    "text_fit(X, y, tfidf, LogisticRegression())"
   ]
  },
  {
   "cell_type": "markdown",
   "metadata": {},
   "source": [
    "Accurancy is roughly the same - 93.5%. However we notice that the significant words make much more sense now, with higher coefficient magnitude as well!"
   ]
  },
  {
   "cell_type": "markdown",
   "metadata": {},
   "source": [
    "# Logistic regression model on TFIDF + ngram"
   ]
  },
  {
   "cell_type": "code",
   "execution_count": 9,
   "metadata": {},
   "outputs": [
    {
     "name": "stdout",
     "output_type": "stream",
     "text": [
      "# features: 3933179\n",
      "# train records: 394360\n",
      "# test records: 131454\n",
      "Model Accuracy: 0.9454714196601093\n",
      "\n",
      "-Top 20 positive-\n",
      "Coefficient              Word\n",
      "  21.054577             great\n",
      "  17.831601              best\n",
      "  17.012872         delicious\n",
      "  14.624623           perfect\n",
      "  13.611160             loves\n",
      "  13.272387              love\n",
      "  13.144334         excellent\n",
      "  11.418326              good\n",
      "  11.321080         wonderful\n",
      "  10.811514              nice\n",
      "  10.594919          favorite\n",
      "   9.691426           amazing\n",
      "   9.371318           awesome\n",
      "   9.143947              easy\n",
      "   8.947594           pleased\n",
      "   8.906614             happy\n",
      "   8.715677            smooth\n",
      "   8.592553             yummy\n",
      "   8.466686            highly\n",
      "   8.423070  highly recommend\n",
      "\n",
      "-Top 20 negative-\n",
      "Coefficient            Word\n",
      "  -7.807009           maybe\n",
      "  -8.129029          hoping\n",
      "  -8.250228       tasteless\n",
      "  -8.319548           money\n",
      "  -8.353005           worse\n",
      "  -8.564717         thought\n",
      "  -8.764723      disgusting\n",
      "  -9.145294           bland\n",
      "  -9.304977           threw\n",
      "  -9.893504           stale\n",
      "  -9.963747            weak\n",
      " -10.144197          return\n",
      " -10.343525  disappointment\n",
      " -10.835954   unfortunately\n",
      " -11.312277        horrible\n",
      " -11.814174           awful\n",
      " -13.034125        terrible\n",
      " -13.444856   disappointing\n",
      " -14.709057    disappointed\n",
      " -15.211034           worst\n"
     ]
    }
   ],
   "source": [
    "tfidf_n = TfidfVectorizer(ngram_range=(1,2),stop_words = 'english')\n",
    "text_fit(X, y, tfidf_n, LogisticRegression())"
   ]
  },
  {
   "cell_type": "markdown",
   "metadata": {},
   "source": [
    "Adding ngram parameter, we are able to understand phrase like \"not good\". Therefore the accuracy goes up a bit to 94.5%. We can see \"highly recommend\" is on 20th place of positive words"
   ]
  },
  {
   "cell_type": "markdown",
   "metadata": {},
   "source": [
    "# Upvote prediction"
   ]
  },
  {
   "cell_type": "markdown",
   "metadata": {},
   "source": [
    "Data preview"
   ]
  },
  {
   "cell_type": "markdown",
   "metadata": {},
   "source": [
    "This study is to see whether there is pattern found for unpopular (downvote) comments by users (might be used to boost sales). We will be focusing on score 5 reviews, and get rid of comments with neutral votes:"
   ]
  },
  {
   "cell_type": "code",
   "execution_count": 10,
   "metadata": {},
   "outputs": [
    {
     "name": "stdout",
     "output_type": "stream",
     "text": [
      "Class distribution:\n",
      "1    151721\n",
      "0      2707\n",
      "Name: % Upvote, dtype: int64\n"
     ]
    }
   ],
   "source": [
    "df = df[df['Score'] == 5]\n",
    "df = df[df['% Upvote'].isin(['0-20%', '20-40%', '60-80%', '80-100%'])]\n",
    "df.shape\n",
    "\n",
    "X = df['Text']\n",
    "y_dict = {'0-20%': 0, '20-40%': 0, '60-80%': 1, '80-100%': 1}\n",
    "y = df['% Upvote'].map(y_dict)\n",
    "\n",
    "print('Class distribution:')\n",
    "print(y.value_counts())"
   ]
  },
  {
   "cell_type": "markdown",
   "metadata": {},
   "source": [
    "The target class is highly skewed to positive (upvotes). Let's resample the data to get balanced data:"
   ]
  },
  {
   "cell_type": "code",
   "execution_count": 15,
   "metadata": {},
   "outputs": [
    {
     "name": "stdout",
     "output_type": "stream",
     "text": [
      "Percentage of upvote transactions:  0.5\n",
      "Percentage of downvote transactions:  0.5\n",
      "Total number of records in resampled data:  5414\n"
     ]
    },
    {
     "name": "stderr",
     "output_type": "stream",
     "text": [
      "C:\\Users\\emondsa\\AppData\\Local\\Continuum\\anaconda3\\lib\\site-packages\\ipykernel_launcher.py:13: DeprecationWarning: \n",
      ".ix is deprecated. Please use\n",
      ".loc for label based indexing or\n",
      ".iloc for positional indexing\n",
      "\n",
      "See the documentation here:\n",
      "http://pandas.pydata.org/pandas-docs/stable/indexing.html#ix-indexer-is-deprecated\n",
      "  del sys.path[0]\n"
     ]
    }
   ],
   "source": [
    "df_s = pd.DataFrame(data = [X,y]).T\n",
    "\n",
    "Downvote_records = len(df_s[df_s['% Upvote'] == 0])\n",
    "Downvote_indices = np.array(df_s[df_s['% Upvote'] == 0].index)\n",
    "\n",
    "Upvote_indices = df_s[df_s['% Upvote'] == 1].index\n",
    "\n",
    "random_upvote_indices = np.random.choice(Upvote_indices, Downvote_records, replace = False)\n",
    "random_upvote_indices = np.array(random_upvote_indices)\n",
    "\n",
    "under_sample_indices = np.concatenate([Downvote_indices,random_upvote_indices])\n",
    "\n",
    "under_sample_data = df_s.ix[under_sample_indices, :]\n",
    "X_u = under_sample_data['Text']\n",
    "under_sample_data['% Upvote'] = under_sample_data['% Upvote'].astype(int)\n",
    "y_u = under_sample_data['% Upvote']\n",
    "\n",
    "print(\"Percentage of upvote transactions: \", len(under_sample_data[under_sample_data['% Upvote'] == 1])/len(under_sample_data))\n",
    "print(\"Percentage of downvote transactions: \", len(under_sample_data[under_sample_data['% Upvote'] == 0])/len(under_sample_data))\n",
    "print(\"Total number of records in resampled data: \", len(under_sample_data))"
   ]
  },
  {
   "cell_type": "code",
   "execution_count": 17,
   "metadata": {},
   "outputs": [
    {
     "data": {
      "text/html": [
       "<div>\n",
       "<style scoped>\n",
       "    .dataframe tbody tr th:only-of-type {\n",
       "        vertical-align: middle;\n",
       "    }\n",
       "\n",
       "    .dataframe tbody tr th {\n",
       "        vertical-align: top;\n",
       "    }\n",
       "\n",
       "    .dataframe thead th {\n",
       "        text-align: right;\n",
       "    }\n",
       "</style>\n",
       "<table border=\"1\" class=\"dataframe\">\n",
       "  <thead>\n",
       "    <tr style=\"text-align: right;\">\n",
       "      <th></th>\n",
       "      <th>Text</th>\n",
       "      <th>% Upvote</th>\n",
       "    </tr>\n",
       "  </thead>\n",
       "  <tbody>\n",
       "    <tr>\n",
       "      <th>0</th>\n",
       "      <td>I have bought several of the Vitality canned d...</td>\n",
       "      <td>1</td>\n",
       "    </tr>\n",
       "    <tr>\n",
       "      <th>8</th>\n",
       "      <td>Right now I'm mostly just sprouting this so my...</td>\n",
       "      <td>1</td>\n",
       "    </tr>\n",
       "    <tr>\n",
       "      <th>10</th>\n",
       "      <td>I don't know if it's the cactus or the tequila...</td>\n",
       "      <td>1</td>\n",
       "    </tr>\n",
       "    <tr>\n",
       "      <th>11</th>\n",
       "      <td>One of my boys needed to lose some weight and ...</td>\n",
       "      <td>1</td>\n",
       "    </tr>\n",
       "    <tr>\n",
       "      <th>14</th>\n",
       "      <td>The Strawberry Twizzlers are my guilty pleasur...</td>\n",
       "      <td>1</td>\n",
       "    </tr>\n",
       "  </tbody>\n",
       "</table>\n",
       "</div>"
      ],
      "text/plain": [
       "                                                 Text % Upvote\n",
       "0   I have bought several of the Vitality canned d...        1\n",
       "8   Right now I'm mostly just sprouting this so my...        1\n",
       "10  I don't know if it's the cactus or the tequila...        1\n",
       "11  One of my boys needed to lose some weight and ...        1\n",
       "14  The Strawberry Twizzlers are my guilty pleasur...        1"
      ]
     },
     "execution_count": 17,
     "metadata": {},
     "output_type": "execute_result"
    }
   ],
   "source": [
    "df_s.head()"
   ]
  },
  {
   "cell_type": "markdown",
   "metadata": {},
   "source": [
    "# Logistic regression model on word count¶"
   ]
  },
  {
   "cell_type": "code",
   "execution_count": 18,
   "metadata": {},
   "outputs": [
    {
     "name": "stdout",
     "output_type": "stream",
     "text": [
      "# features: 16083\n",
      "# train records: 4060\n",
      "# test records: 1354\n",
      "Model Accuracy: 0.7186115214180206\n",
      "\n",
      "-Top 20 positive-\n",
      "Coefficient        Word\n",
      "   1.386899    fabulous\n",
      "   1.332679      bitter\n",
      "   1.286751    quantity\n",
      "   1.195011    thinking\n",
      "   1.180269  complaints\n",
      "   1.173001     candies\n",
      "   1.127016        heat\n",
      "   1.118164        kick\n",
      "   1.099103      single\n",
      "   1.047862        chip\n",
      "   1.042289        wont\n",
      "   1.037449   packaging\n",
      "   1.034932        bold\n",
      "   1.029758      keurig\n",
      "   1.026576        soon\n",
      "   1.023699       rinse\n",
      "   1.005445       eater\n",
      "   0.996633      gluten\n",
      "   0.987425  assortment\n",
      "   0.981138      bodied\n",
      "\n",
      "-Top 20 negative-\n",
      "Coefficient         Word\n",
      "  -0.951921           24\n",
      "  -0.955369  opportunity\n",
      "  -0.964114        wrong\n",
      "  -0.967286         near\n",
      "  -0.970077       newman\n",
      "  -0.973061        pizza\n",
      "  -0.985442       matter\n",
      "  -0.990082        kashi\n",
      "  -1.040698     kombucha\n",
      "  -1.115425        given\n",
      "  -1.130765       caviar\n",
      "  -1.160597       lipton\n",
      "  -1.188957        short\n",
      "  -1.189118   refreshing\n",
      "  -1.194816          man\n",
      "  -1.200300       unique\n",
      "  -1.201449        cause\n",
      "  -1.391464     brooklyn\n",
      "  -1.452976        purse\n",
      "  -1.705607       marley\n"
     ]
    }
   ],
   "source": [
    "c = CountVectorizer(stop_words = 'english')\n",
    "\n",
    "text_fit(X_u, y_u, c, LogisticRegression())"
   ]
  },
  {
   "cell_type": "markdown",
   "metadata": {},
   "source": [
    "The words look no sense at all, and the coefficients are very small."
   ]
  },
  {
   "cell_type": "markdown",
   "metadata": {},
   "source": [
    "# Logistic regression model on TFIDF + ngram"
   ]
  },
  {
   "cell_type": "code",
   "execution_count": 19,
   "metadata": {},
   "outputs": [
    {
     "name": "stdout",
     "output_type": "stream",
     "text": [
      "# features: 143723\n",
      "# train records: 4060\n",
      "# test records: 1354\n",
      "Model Accuracy: 0.7193500738552437\n",
      "\n",
      "-Top 20 positive-\n",
      "Coefficient         Word\n",
      "   2.050771         food\n",
      "   1.755108          mix\n",
      "   1.550919           ve\n",
      "   1.417955       flavor\n",
      "   1.379502          tea\n",
      "   1.269297         make\n",
      "   1.263598         salt\n",
      "   1.112136       gluten\n",
      "   1.069881         teas\n",
      "   0.979712          bag\n",
      "   0.972884      chicken\n",
      "   0.972837        chips\n",
      "   0.962782         does\n",
      "   0.960645        fresh\n",
      "   0.951459        tried\n",
      "   0.951375      flavors\n",
      "   0.941456        loves\n",
      "   0.912046  gluten free\n",
      "   0.910567         real\n",
      "   0.908022      quality\n",
      "\n",
      "-Top 20 negative-\n",
      "Coefficient     Word\n",
      "  -0.855027    wrong\n",
      "  -0.885125   thanks\n",
      "  -0.897356     nice\n",
      "  -0.905060     yoga\n",
      "  -0.924973     item\n",
      "  -0.982030     wish\n",
      "  -1.000560  pleased\n",
      "  -1.028838   lipton\n",
      "  -1.032415   bottle\n",
      "  -1.091557   marley\n",
      "  -1.122176   seller\n",
      "  -1.166524     zico\n",
      "  -1.194964  product\n",
      "  -1.206812    order\n",
      "  -1.234402  service\n",
      "  -1.258674     know\n",
      "  -1.607602       br\n",
      "  -1.742273   coffee\n",
      "  -1.845835    drink\n",
      "  -2.128580    water\n"
     ]
    }
   ],
   "source": [
    "tfidf_n = TfidfVectorizer(ngram_range=(1,2),stop_words = 'english')\n",
    "\n",
    "text_fit(X_u, y_u, tfidf_n, LogisticRegression())"
   ]
  },
  {
   "cell_type": "markdown",
   "metadata": {},
   "source": [
    "Similar to count metric, the accuracy isn't very high and words are not meaningful."
   ]
  },
  {
   "cell_type": "markdown",
   "metadata": {},
   "source": [
    "# Study on non-context features"
   ]
  },
  {
   "cell_type": "markdown",
   "metadata": {},
   "source": [
    "Let's look at some examples of upvote and downvote comments:"
   ]
  },
  {
   "cell_type": "code",
   "execution_count": 20,
   "metadata": {},
   "outputs": [
    {
     "name": "stdout",
     "output_type": "stream",
     "text": [
      "Downvote score 5 comments examples:\n",
      "207      Hard to find the wintergreen smalls [sugar fre...\n",
      "4511     Wonderful, smooth, satisfying decaf coffee wit...\n",
      "7787     My husband is a big coffee drinker, and with a...\n",
      "12072    We love French roast coffee and my husband mus...\n",
      "13671    THIS IS A LOVELY VERY HEALTHY TREE,ALONG WITH ...\n",
      "Name: Text, dtype: object\n",
      "Upvote score 5 comments examples\n",
      "476165    I love this pasta.  I hate it when I go to my ...\n",
      "327184    We have two bachon's Frise Dogs who just love ...\n",
      "145844    I checked my past orders of the Stash brand Ea...\n",
      "142252    Cheese?  I received a cheese of the month pack...\n",
      "269951    Pro: Tastes fresh. Great stuff!<br /><br />Con...\n",
      "Name: Text, dtype: object\n"
     ]
    }
   ],
   "source": [
    "#pd.set_option('display.max_colwidth', -1)\n",
    "print('Downvote score 5 comments examples:')\n",
    "print(under_sample_data[under_sample_data['% Upvote']==0]['Text'].iloc[:100:20])\n",
    "print('Upvote score 5 comments examples')\n",
    "print(under_sample_data[under_sample_data['% Upvote']==1]['Text'].iloc[:100:20])"
   ]
  },
  {
   "cell_type": "markdown",
   "metadata": {},
   "source": [
    "Time to extract some possible features:"
   ]
  },
  {
   "cell_type": "code",
   "execution_count": 21,
   "metadata": {},
   "outputs": [
    {
     "name": "stdout",
     "output_type": "stream",
     "text": [
      "% Upvote                  0          1\n",
      "word_count        83.927226  88.032139\n",
      "capital_count     19.252678  13.986701\n",
      "question_mark      0.180273   0.084965\n",
      "exclamation_mark   0.906169   0.912819\n",
      "punctuation       22.482822  19.646842\n"
     ]
    }
   ],
   "source": [
    "under_sample_data['word_count'] = under_sample_data['Text'].apply(lambda x: len(x.split()))\n",
    "under_sample_data['capital_count'] = under_sample_data['Text'].apply(lambda x: sum(1 for c in x if c.isupper()))\n",
    "under_sample_data['question_mark'] = under_sample_data['Text'].apply(lambda x: sum(1 for c in x if c == '?'))\n",
    "under_sample_data['exclamation_mark'] = under_sample_data['Text'].apply(lambda x: sum(1 for c in x if c == '!'))\n",
    "under_sample_data['punctuation'] = under_sample_data['Text'].apply(lambda x: sum(1 for c in x if c in punctuation))\n",
    "\n",
    "print(under_sample_data.groupby('% Upvote').agg({'word_count': 'mean', 'capital_count': 'mean', 'question_mark': 'mean', 'exclamation_mark': 'mean', 'punctuation': 'mean'}).T)\n",
    "\n",
    "X_num = under_sample_data[under_sample_data.columns.difference(['% Upvote', 'Text'])]\n",
    "y_num = under_sample_data['% Upvote']"
   ]
  },
  {
   "cell_type": "code",
   "execution_count": 24,
   "metadata": {},
   "outputs": [
    {
     "data": {
      "text/html": [
       "<div>\n",
       "<style scoped>\n",
       "    .dataframe tbody tr th:only-of-type {\n",
       "        vertical-align: middle;\n",
       "    }\n",
       "\n",
       "    .dataframe tbody tr th {\n",
       "        vertical-align: top;\n",
       "    }\n",
       "\n",
       "    .dataframe thead th {\n",
       "        text-align: right;\n",
       "    }\n",
       "</style>\n",
       "<table border=\"1\" class=\"dataframe\">\n",
       "  <thead>\n",
       "    <tr style=\"text-align: right;\">\n",
       "      <th></th>\n",
       "      <th>capital_count</th>\n",
       "      <th>exclamation_mark</th>\n",
       "      <th>punctuation</th>\n",
       "      <th>question_mark</th>\n",
       "      <th>word_count</th>\n",
       "    </tr>\n",
       "  </thead>\n",
       "  <tbody>\n",
       "    <tr>\n",
       "      <th>207</th>\n",
       "      <td>7</td>\n",
       "      <td>1</td>\n",
       "      <td>16</td>\n",
       "      <td>0</td>\n",
       "      <td>64</td>\n",
       "    </tr>\n",
       "    <tr>\n",
       "      <th>284</th>\n",
       "      <td>0</td>\n",
       "      <td>1</td>\n",
       "      <td>4</td>\n",
       "      <td>0</td>\n",
       "      <td>32</td>\n",
       "    </tr>\n",
       "    <tr>\n",
       "      <th>536</th>\n",
       "      <td>10</td>\n",
       "      <td>0</td>\n",
       "      <td>11</td>\n",
       "      <td>0</td>\n",
       "      <td>40</td>\n",
       "    </tr>\n",
       "    <tr>\n",
       "      <th>539</th>\n",
       "      <td>391</td>\n",
       "      <td>15</td>\n",
       "      <td>438</td>\n",
       "      <td>5</td>\n",
       "      <td>866</td>\n",
       "    </tr>\n",
       "    <tr>\n",
       "      <th>647</th>\n",
       "      <td>2</td>\n",
       "      <td>0</td>\n",
       "      <td>2</td>\n",
       "      <td>0</td>\n",
       "      <td>28</td>\n",
       "    </tr>\n",
       "  </tbody>\n",
       "</table>\n",
       "</div>"
      ],
      "text/plain": [
       "     capital_count  exclamation_mark  punctuation  question_mark  word_count\n",
       "207              7                 1           16              0          64\n",
       "284              0                 1            4              0          32\n",
       "536             10                 0           11              0          40\n",
       "539            391                15          438              5         866\n",
       "647              2                 0            2              0          28"
      ]
     },
     "execution_count": 24,
     "metadata": {},
     "output_type": "execute_result"
    }
   ],
   "source": [
    "X_num.head()"
   ]
  },
  {
   "cell_type": "markdown",
   "metadata": {},
   "source": [
    "# Now we train the model to predict:"
   ]
  },
  {
   "cell_type": "code",
   "execution_count": 22,
   "metadata": {},
   "outputs": [
    {
     "name": "stdout",
     "output_type": "stream",
     "text": [
      "Logistic Regression accuracy: 0.5841949778434269\n"
     ]
    },
    {
     "name": "stderr",
     "output_type": "stream",
     "text": [
      "C:\\Users\\emondsa\\AppData\\Local\\Continuum\\anaconda3\\lib\\site-packages\\sklearn\\svm\\base.py:193: FutureWarning: The default value of gamma will change from 'auto' to 'scale' in version 0.22 to account better for unscaled features. Set gamma explicitly to 'auto' or 'scale' to avoid this warning.\n",
      "  \"avoid this warning.\", FutureWarning)\n"
     ]
    },
    {
     "name": "stdout",
     "output_type": "stream",
     "text": [
      "SVM accuracy: 0.6639586410635155\n"
     ]
    }
   ],
   "source": [
    "X_train, X_test, y_train, y_test = train_test_split(X_num, y_num, random_state=0)\n",
    "\n",
    "clf_lr = LogisticRegression().fit(X_train, y_train)\n",
    "acc_lr = clf_lr.score(X_test, y_test)\n",
    "print('Logistic Regression accuracy: {}'.format(acc_lr))\n",
    "\n",
    "clf_svm = svm.SVC().fit(X_train, y_train)\n",
    "acc_svm = clf_svm.score(X_test, y_test)\n",
    "print('SVM accuracy: {}'.format(acc_svm))"
   ]
  },
  {
   "cell_type": "markdown",
   "metadata": {},
   "source": [
    "Accuracy is lower than context features we tried above, meaning the feature is not good enough to predict our target."
   ]
  },
  {
   "cell_type": "markdown",
   "metadata": {},
   "source": [
    "# In-depth study on user behaviour"
   ]
  },
  {
   "cell_type": "markdown",
   "metadata": {},
   "source": [
    "This analysis will be carried out to focus on one specific user, on what he / she likes in terms of fine food, based on the reviews he / she had given in the past. This can be expanded to all users later on.\n",
    "\n",
    "First let's look at how many reviews each user gave in the past:"
   ]
  },
  {
   "cell_type": "code",
   "execution_count": 39,
   "metadata": {},
   "outputs": [
    {
     "name": "stdout",
     "output_type": "stream",
     "text": [
      "                                                       Score count  Score mean\n",
      "UserId         ProfileName                                                    \n",
      "A3OXHLG6DIBRW8 C. F. Hill \"CFH\"                                448    4.535714\n",
      "A1YUL9PCJR3JTY O. Brown \"Ms. O. Khannah-Brown\"                 421    4.494062\n",
      "AY12DBB0U420B  Gary Peterson                                   389    4.647815\n",
      "A281NPSIMI1C2R Rebecca of Amazon \"The Rebecca Review\"          365    4.841096\n",
      "A1Z54EM24Y40LL c2                                              256    4.453125\n",
      "A1TMAVN4CEM8U8 Gunner                                          204    4.833333\n",
      "A2MUGFV2TDQ47K Lynrie \"Oh HELL no\"                             201    3.751244\n",
      "A3TVZM3ZIXG8YW christopher hayes                               199    1.000000\n",
      "A3PJZ8TU8FDQ1K Jared Castle                                    178    4.601124\n",
      "AQQLWCMRNDFGI  Steven A. Peterson                              176    3.954545\n"
     ]
    }
   ],
   "source": [
    "df_user = odf.groupby(['UserId', 'ProfileName']).agg({'Score':['count', 'mean']})\n",
    "df_user.columns = df_user.columns.get_level_values(1)\n",
    "df_user.columns = ['Score count', 'Score mean']\n",
    "df_user = df_user.sort_values(by = 'Score count', ascending = False)\n",
    "print(df_user.head(10))"
   ]
  },
  {
   "cell_type": "markdown",
   "metadata": {},
   "source": [
    "The user with most frequent reviews are \"CFH\" with 448 reviews and average score 4.54. Let's look at his review distribution:"
   ]
  },
  {
   "cell_type": "code",
   "execution_count": 40,
   "metadata": {},
   "outputs": [
    {
     "data": {
      "image/png": "[encoded data removed]",
      "text/plain": [
       "<Figure size 1080x720 with 1 Axes>"
      ]
     },
     "metadata": {
      "needs_background": "light"
     },
     "output_type": "display_data"
    }
   ],
   "source": [
    "def plot_user(UserId):\n",
    "    df_1user = odf[odf['UserId'] == UserId]['Score']\n",
    "    df_1user_plot = df_1user.value_counts(sort=False)\n",
    "    ax = df_1user_plot.plot(kind = 'bar', figsize = (15,10), title = 'Score distribution of user {} review'.format(odf[odf['UserId'] == UserId]['ProfileName'].iloc[0]))\n",
    "\n",
    "plot_user('A3OXHLG6DIBRW8')"
   ]
  },
  {
   "cell_type": "markdown",
   "metadata": {},
   "source": [
    "It looks user \"CFH\" prefer to give high score a lot. I would rather analyze a more neutral user, let's dig into that:"
   ]
  },
  {
   "cell_type": "code",
   "execution_count": 41,
   "metadata": {},
   "outputs": [
    {
     "name": "stdout",
     "output_type": "stream",
     "text": [
      "                                Score count  Score mean\n",
      "UserId         ProfileName                             \n",
      "A35R32TA60XD57 M. Torma                 141    3.460993\n",
      "A2M9D9BDHONV3Y A. Bennett               115    3.269565\n",
      "A2TN9C5E4A0I3F Jimmy                    110    2.727273\n",
      "A2XNJJ9TF70P4J Angie                     85    2.976471\n",
      "AJB5P7GVR0MT8  Harry the Horse           70    3.257143\n"
     ]
    }
   ],
   "source": [
    "print(df_user[(df_user['Score mean']<3.5) & (df_user['Score mean']>2.5)].head())"
   ]
  },
  {
   "cell_type": "markdown",
   "metadata": {},
   "source": [
    "A. Bennett seems a good target:"
   ]
  },
  {
   "cell_type": "code",
   "execution_count": 42,
   "metadata": {},
   "outputs": [
    {
     "data": {
      "image/png": "[encoded data removed]",
      "text/plain": [
       "<Figure size 1080x720 with 1 Axes>"
      ]
     },
     "metadata": {
      "needs_background": "light"
     },
     "output_type": "display_data"
    }
   ],
   "source": [
    "plot_user('A2M9D9BDHONV3Y')"
   ]
  },
  {
   "cell_type": "markdown",
   "metadata": {},
   "source": [
    "He seems like a better analysis target! Now let's dig deep into his reviews:"
   ]
  },
  {
   "cell_type": "code",
   "execution_count": 52,
   "metadata": {},
   "outputs": [
    {
     "name": "stdout",
     "output_type": "stream",
     "text": [
      "I heard <FreqDist with 2144 samples and 3493 outcomes>\n",
      "score 1 reviews most popular 2-gram / 3-gram:\n",
      "   Count  Occur %                   Phrase\n",
      "0   31.0  119.23%               (..., ...)\n",
      "1   17.0   65.38%          (..., ..., ...)\n",
      "2   11.0   42.31%             (never, buy)\n",
      "3    9.0   34.62%           (buy, product)\n",
      "4    8.0   30.77%    (never, buy, product)\n",
      "5    8.0   30.77%  (monosodium, glutamate)\n",
      "6    7.0   26.92%            (decide, try)\n",
      "7    7.0   26.92%          (picture, look)\n",
      "8    7.0   26.92%         (dry, tasteless)\n",
      "I heard <FreqDist with 1702 samples and 2007 outcomes>\n",
      "score 2 reviews most popular 2-gram / 3-gram:\n",
      "    Count Occur %                Phrase\n",
      "0     8.0  47.06%  (sauce, ruin, whole)\n",
      "1     8.0  47.06%         (sauce, ruin)\n",
      "2     8.0  47.06%         (ruin, whole)\n",
      "3     6.0  35.29%            (n't, buy)\n",
      "4     6.0  35.29%       (product, ever)\n",
      "5     5.0  29.41%     (..., .give, try)\n",
      "6     5.0  29.41%           (try, like)\n",
      "7     5.0  29.41%    (.give, try, like)\n",
      "8     5.0  29.41%          (..., .give)\n",
      "9     5.0  29.41%     (buy, particular)\n",
      "10    5.0  29.41%          (get, wrong)\n",
      "11    5.0  29.41%     (n't, get, wrong)\n",
      "12    5.0  29.41%            (n't, get)\n",
      "13    5.0  29.41%          (.give, try)\n",
      "14    5.0  29.41%         (taste, like)\n",
      "I heard <FreqDist with 1643 samples and 1797 outcomes>\n",
      "score 3 reviews most popular 2-gram / 3-gram:\n",
      "   Count Occur %         Phrase\n",
      "0    7.0   50.0%     (..., ...)\n",
      "1    4.0  28.57%   (whole, lot)\n",
      "2    4.0  28.57%  (taste, like)\n",
      "I heard <FreqDist with 1538 samples and 1745 outcomes>\n",
      "score 4 reviews most popular 2-gram / 3-gram:\n",
      "   Count Occur %               Phrase\n",
      "0    6.0   37.5%  (highly, recommend)\n",
      "1    5.0  31.25%         (side, dish)\n",
      "2    4.0   25.0%       (potato, chip)\n",
      "I heard <FreqDist with 3812 samples and 4569 outcomes>\n",
      "score 5 reviews most popular 2-gram / 3-gram:\n",
      "   Count Occur %               Phrase\n",
      "0   18.0  42.86%  (highly, recommend)\n"
     ]
    }
   ],
   "source": [
    "def get_token_ngram(score, benchmark, userid='all'):\n",
    "\n",
    "    if userid != 'all':\n",
    "        df = odf[(odf['UserId'] == userid) & (odf['Score'] == score)]['Text']\n",
    "    else:\n",
    "        df = odf[odf['Score'] == score]['Text']\n",
    "        \n",
    "    count = len(df)\n",
    "    total_text = ' '.join(df)\n",
    "    total_text = total_text.lower()\n",
    "    stop = set(stopwords.words('english'))\n",
    "    total_text = nltk.word_tokenize(total_text)\n",
    "    total_text = [word for word in total_text if word not in stop and len(word) >= 3]\n",
    "    lemmatizer = WordNetLemmatizer()\n",
    "    total_text = [lemmatizer.lemmatize(w,'v') for w in total_text]\n",
    "    bigrams = ngrams(total_text,2)\n",
    "    trigrams = ngrams(total_text, 3)\n",
    "\n",
    "    # look at 2-gram and 3-gram together\n",
    "    combine = chain(bigrams, trigrams)\n",
    "    text = nltk.Text(combine)\n",
    "    fdist = nltk.FreqDist(text)\n",
    "    print(\"I heard\",fdist)\n",
    "    # return only phrase occurs more than benchmark of his reviews\n",
    "    return sorted([(w,fdist[w],str(round(fdist[w]/count*100,2))+'%') for w in set(text) if fdist[w] >= count*benchmark], key=lambda x: -x[1])\n",
    "\n",
    "# score 1-5 reviews with this user\n",
    "index = ['Phrase', 'Count', 'Occur %']\n",
    "\n",
    "for j in range(1,6):\n",
    "    test = pd.DataFrame()\n",
    "    d = get_token_ngram(j, 0.25, 'A2M9D9BDHONV3Y')\n",
    "    print('score {} reviews most popular 2-gram / 3-gram:'.format(j))\n",
    "    for i in d:\n",
    "        test = test.append(pd.Series(i, index = index), ignore_index = True)\n",
    "    test = test.sort_values('Count', ascending=False)\n",
    "    print(test)"
   ]
  },
  {
   "cell_type": "markdown",
   "metadata": {},
   "source": [
    "Seems like A. Bennett likes to use something like \"give it a try\" for score 2 reviews and \"highly recommend\" for score 5 reviews (without other frequent phrases). He likes using the phrase \"...\" a lot as well. Sample size is very small though.\n",
    "\n",
    "Let's look at full picture now instead of just one user:"
   ]
  },
  {
   "cell_type": "code",
   "execution_count": 46,
   "metadata": {},
   "outputs": [
    {
     "name": "stdout",
     "output_type": "stream",
     "text": [
      "score 1 reviews most popular 2-gram / 3-gram:\n",
      "    Count Occur %          Phrase\n",
      "0  5536.0  10.59%   (taste, like)\n",
      "1  2316.0   4.43%  (waste, money)\n",
      "2  2175.0   4.16%    (could, n't)\n",
      "3  2111.0   4.04%     (n't, even)\n",
      "4  1809.0   3.46%     (n't, know)\n",
      "5  1794.0   3.43%    (would, n't)\n",
      "6  1644.0   3.15%      (n't, buy)\n",
      "score 2 reviews most popular 2-gram / 3-gram:\n",
      "    Count Occur %          Phrase\n",
      "0  3161.0  10.62%   (taste, like)\n",
      "1  1362.0   4.58%     (n't, like)\n",
      "2  1304.0   4.38%    (would, n't)\n",
      "3  1086.0   3.65%  (think, would)\n",
      "4  1064.0   3.57%      (n't, buy)\n",
      "5  1010.0   3.39%     (n't, know)\n",
      "6   996.0   3.35%    (n't, taste)\n",
      "7   945.0   3.17%    (could, n't)\n",
      "8   910.0   3.06%   (taste, good)\n",
      "score 3 reviews most popular 2-gram / 3-gram:\n",
      "    Count Occur %          Phrase\n",
      "0  3237.0   7.59%   (taste, like)\n",
      "1  1632.0   3.83%    (would, n't)\n",
      "2  1612.0   3.78%     (n't, like)\n",
      "3  1551.0   3.64%   (taste, good)\n",
      "4  1463.0   3.43%   (href=, http)\n",
      "5  1406.0    3.3%     (n't, know)\n",
      "6  1295.0   3.04%  (think, would)\n",
      "score 4 reviews most popular 2-gram / 3-gram:\n",
      "    Count Occur %          Phrase\n",
      "0  4353.0    5.4%   (taste, like)\n",
      "1  3203.0   3.97%   (taste, good)\n",
      "2  3011.0   3.73%   (href=, http)\n",
      "3  2819.0    3.5%  (pretty, good)\n",
      "4  2742.0    3.4%  (really, like)\n",
      "5  2427.0   3.01%     (n't, like)\n",
      "score 5 reviews most popular 2-gram / 3-gram:\n",
      "     Count Occur %               Phrase\n",
      "0  17499.0   4.82%  (highly, recommend)\n",
      "1  14450.0   3.98%        (taste, like)\n",
      "2  11762.0   3.24%     (grocery, store)\n",
      "3  11471.0   3.16%       (taste, great)\n"
     ]
    }
   ],
   "source": [
    "# score 1-5 reviews with all users\n",
    "index = ['Phrase', 'Count', 'Occur %']\n",
    "\n",
    "for j in range(1,6):\n",
    "    test = pd.DataFrame()\n",
    "    # easier benchmark since we have many different users here, thus different phrase\n",
    "    d = get_token_ngram(j, 0.03)\n",
    "    print('score {} reviews most popular 2-gram / 3-gram:'.format(j))\n",
    "    for i in d:\n",
    "        test = test.append(pd.Series(i, index = index), ignore_index = True)\n",
    "    test = test.sort_values('Count', ascending=False)\n",
    "    print(test)"
   ]
  },
  {
   "cell_type": "markdown",
   "metadata": {},
   "source": [
    "Funny that people are more likely to attach HTML links (href=) for more positive reviews (3 and 4).\n",
    "Other than that, not much useful discoveries except positive / negative tones, since people are very different in texting style.\n",
    "\n",
    "Maybe we should focus on popular single adjective word people used for different score. First we modify the function a bit for easier implementation:"
   ]
  },
  {
   "cell_type": "code",
   "execution_count": 47,
   "metadata": {},
   "outputs": [],
   "source": [
    "def get_token_adj(score, benchmark, userid='all'):\n",
    "    \n",
    "    if userid != 'all':\n",
    "        df = odf[(odf['UserId'] == userid) & (odf['Score'] == score)]['Text']\n",
    "    else:\n",
    "        df = odf[odf['Score'] == score]['Text']\n",
    "        \n",
    "    count = len(df)\n",
    "    total_text = ' '.join(df)\n",
    "    total_text = total_text.lower()\n",
    "    stop = set(stopwords.words('english'))\n",
    "    total_text = nltk.word_tokenize(total_text)\n",
    "    total_text = [word for word in total_text if word not in stop and len(word) >= 3]\n",
    "    lemmatizer = WordNetLemmatizer()\n",
    "    total_text = [lemmatizer.lemmatize(w,'a') for w in total_text]\n",
    "    # get adjective only\n",
    "    total_text = [word for word, form in nltk.pos_tag(total_text) if form == 'JJ']\n",
    "    \n",
    "    text = nltk.Text(total_text)\n",
    "    fdist = nltk.FreqDist(text)\n",
    "    \n",
    "    # return only phrase occurs more than benchmark of his reviews\n",
    "    return sorted([(w,fdist[w],str(round(fdist[w]/count*100,2))+'%') for w in set(text) if fdist[w] >= count*benchmark], key=lambda x: -x[1])"
   ]
  },
  {
   "cell_type": "markdown",
   "metadata": {},
   "source": [
    "Let's look at user A. Bennett again:"
   ]
  },
  {
   "cell_type": "code",
   "execution_count": 50,
   "metadata": {},
   "outputs": [
    {
     "name": "stderr",
     "output_type": "stream",
     "text": [
      "[nltk_data] Downloading package averaged_perceptron_tagger to\n",
      "[nltk_data]     C:\\Users\\emondsa\\AppData\\Roaming\\nltk_data...\n",
      "[nltk_data]   Unzipping taggers\\averaged_perceptron_tagger.zip.\n"
     ]
    },
    {
     "name": "stdout",
     "output_type": "stream",
     "text": [
      "score 1 reviews most popular adjectives word:\n",
      "   Count Occur %     Phrase\n",
      "0   13.0   50.0%        dry\n",
      "1   12.0  46.15%     cheese\n",
      "2   10.0  38.46%        bad\n",
      "3   10.0  38.46%     little\n",
      "4    8.0  30.77%  expensive\n",
      "5    8.0  30.77%       hard\n",
      "6    8.0  30.77%      tasty\n",
      "7    8.0  30.77%  delicious\n",
      "8    7.0  26.92%       poor\n",
      "9    7.0  26.92%      bread\n",
      "score 2 reviews most popular adjectives word:\n",
      "   Count Occur %      Phrase\n",
      "0   10.0  58.82%       whole\n",
      "1    8.0  47.06%      cheese\n",
      "2    6.0  35.29%       wrong\n",
      "3    6.0  35.29%       awful\n",
      "4    6.0  35.29%   delicious\n",
      "5    5.0  29.41%  particular\n",
      "6    5.0  29.41%       .give\n",
      "7    5.0  29.41%        good\n",
      "score 3 reviews most popular adjectives word:\n",
      "   Count Occur %        Phrase\n",
      "0    9.0  64.29%         whole\n",
      "1    5.0  35.71%          high\n",
      "2    4.0  28.57%         great\n",
      "3    4.0  28.57%  disappointed\n",
      "4    4.0  28.57%         first\n",
      "5    4.0  28.57%          good\n",
      "score 4 reviews most popular adjectives word:\n",
      "   Count Occur %     Phrase\n",
      "0    9.0  56.25%      great\n",
      "1    8.0   50.0%  delicious\n",
      "2    5.0  31.25%  recommend\n",
      "3    5.0  31.25%     little\n",
      "4    4.0   25.0%    regular\n",
      "5    4.0   25.0%       sure\n",
      "6    4.0   25.0%   multiple\n",
      "7    4.0   25.0%       high\n",
      "8    4.0   25.0%       much\n",
      "9    4.0   25.0%       good\n",
      "score 5 reviews most popular adjectives word:\n",
      "   Count Occur %     Phrase\n",
      "0   31.0  73.81%  delicious\n",
      "1   18.0  42.86%      great\n",
      "2   13.0  30.95%       high\n",
      "3   13.0  30.95%      first\n",
      "4   12.0  28.57%      fresh\n"
     ]
    }
   ],
   "source": [
    "import nltk\n",
    "nltk.download('averaged_perceptron_tagger')\n",
    "# score 1-5 reviews with this user\n",
    "index = ['Phrase', 'Count', 'Occur %']\n",
    "\n",
    "for j in range(1,6):\n",
    "    test = pd.DataFrame()\n",
    "    d = get_token_adj(j, 0.25, 'A2M9D9BDHONV3Y')\n",
    "    print('score {} reviews most popular adjectives word:'.format(j))\n",
    "    for i in d:\n",
    "        test = test.append(pd.Series(i, index = index), ignore_index = True)\n",
    "    test = test.sort_values('Count', ascending=False)\n",
    "    print(test)"
   ]
  },
  {
   "cell_type": "markdown",
   "metadata": {},
   "source": [
    "Obviously much more useful information here, e.g. A. Bennett hates food that are too dry and expensive\n",
    "Let's also look at big picture:"
   ]
  },
  {
   "cell_type": "code",
   "execution_count": 51,
   "metadata": {},
   "outputs": [
    {
     "name": "stdout",
     "output_type": "stream",
     "text": [
      "score 1 reviews most popular adjectives word:\n",
      "      Count Occur %        Phrase\n",
      "0   16193.0  30.98%          good\n",
      "1   10777.0  20.62%           bad\n",
      "2    4977.0   9.52%         great\n",
      "3    4844.0   9.27%          much\n",
      "4    4786.0   9.16%        little\n",
      "5    4774.0   9.13%           old\n",
      "6    4198.0   8.03%         first\n",
      "7    3956.0   7.57%           new\n",
      "8    3789.0   7.25%     different\n",
      "9    3717.0   7.11%          many\n",
      "10   3537.0   6.77%         small\n",
      "11   3296.0   6.31%          real\n",
      "12   3000.0   5.74%  disappointed\n",
      "13   2884.0   5.52%          sure\n",
      "14   2831.0   5.42%          free\n",
      "15   2823.0    5.4%          diet\n",
      "16   2761.0   5.28%          high\n",
      "17   2658.0   5.09%          last\n",
      "score 2 reviews most popular adjectives word:\n",
      "      Count Occur %        Phrase\n",
      "0   13525.0  45.43%          good\n",
      "1    4251.0  14.28%          much\n",
      "2    4170.0  14.01%           bad\n",
      "3    3909.0  13.13%         great\n",
      "4    3691.0   12.4%        little\n",
      "5    2847.0   9.56%         small\n",
      "6    2323.0    7.8%         first\n",
      "7    2292.0    7.7%        strong\n",
      "8    2239.0   7.52%     different\n",
      "9    2163.0   7.27%         sweet\n",
      "10   2067.0   6.94%          many\n",
      "11   2050.0   6.89%           old\n",
      "12   2006.0   6.74%           big\n",
      "13   1958.0   6.58%          hard\n",
      "14   1923.0   6.46%           hot\n",
      "15   1906.0    6.4%  disappointed\n",
      "16   1902.0   6.39%          sure\n",
      "17   1893.0   6.36%          high\n",
      "18   1766.0   5.93%         green\n",
      "19   1703.0   5.72%         whole\n",
      "20   1643.0   5.52%       healthy\n",
      "21   1608.0    5.4%           new\n",
      "22   1595.0   5.36%          weak\n",
      "23   1576.0   5.29%       organic\n",
      "24   1519.0    5.1%          real\n",
      "25   1495.0   5.02%       regular\n",
      "score 3 reviews most popular adjectives word:\n",
      "      Count Occur %     Phrase\n",
      "0   25086.0  58.83%       good\n",
      "1    7648.0  17.94%      great\n",
      "2    7367.0  17.28%     little\n",
      "3    6927.0  16.25%       much\n",
      "4    5473.0  12.84%        bad\n",
      "5    4744.0  11.13%     strong\n",
      "6    4681.0  10.98%      small\n",
      "7    4009.0    9.4%      sweet\n",
      "8    3464.0   8.12%      first\n",
      "9    3432.0   8.05%  different\n",
      "10   3288.0   7.71%       high\n",
      "11   3107.0   7.29%       nice\n",
      "12   3102.0   7.27%       sure\n",
      "13   3036.0   7.12%        big\n",
      "14   2918.0   6.84%        hot\n",
      "15   2904.0   6.81%       many\n",
      "16   2762.0   6.48%      green\n",
      "17   2667.0   6.25%    healthy\n",
      "18   2608.0   6.12%    organic\n",
      "19   2597.0   6.09%       hard\n",
      "20   2567.0   6.02%    regular\n",
      "21   2518.0   5.91%        old\n",
      "22   2516.0    5.9%      large\n",
      "23   2245.0   5.27%      whole\n",
      "24   2237.0   5.25%    natural\n",
      "25   2163.0   5.07%        dry\n",
      "score 4 reviews most popular adjectives word:\n",
      "      Count Occur %     Phrase\n",
      "0   52535.0  65.14%       good\n",
      "1   22466.0  27.85%      great\n",
      "2   16209.0   20.1%     little\n",
      "3   10513.0  13.03%       much\n",
      "4    9279.0   11.5%       nice\n",
      "5    8529.0  10.57%     strong\n",
      "6    8370.0  10.38%      small\n",
      "7    8164.0  10.12%      sweet\n",
      "8    6491.0   8.05%    healthy\n",
      "9    6151.0   7.63%       easy\n",
      "10   5970.0    7.4%        hot\n",
      "11   5961.0   7.39%       high\n",
      "12   5734.0   7.11%       many\n",
      "13   5676.0   7.04%        bad\n",
      "14   5673.0   7.03%        big\n",
      "15   5479.0   6.79%  different\n",
      "16   5424.0   6.72%      first\n",
      "17   5297.0   6.57%    organic\n",
      "18   5041.0   6.25%       sure\n",
      "19   5033.0   6.24%       free\n",
      "20   4835.0   5.99%      green\n",
      "21   4763.0   5.91%    regular\n",
      "22   4653.0   5.77%      large\n",
      "23   4572.0   5.67%       hard\n",
      "24   4497.0   5.58%        old\n",
      "25   4471.0   5.54%      tasty\n",
      "26   4462.0   5.53%      fresh\n",
      "27   4402.0   5.46%        low\n",
      "28   4325.0   5.36%      whole\n",
      "29   4322.0   5.36%  delicious\n",
      "30   4263.0   5.29%    natural\n",
      "score 5 reviews most popular adjectives word:\n",
      "       Count Occur %     Phrase\n",
      "0   151098.0  41.61%       good\n",
      "1   127588.0  35.14%      great\n",
      "2    45682.0  12.58%     little\n",
      "3    32747.0   9.02%       much\n",
      "4    32677.0    9.0%  delicious\n",
      "5    30148.0    8.3%    healthy\n",
      "6    27700.0   7.63%       many\n",
      "7    26152.0    7.2%       free\n",
      "8    25824.0   7.11%       easy\n",
      "9    25239.0   6.95%   favorite\n",
      "10   24891.0   6.85%      small\n",
      "11   24739.0   6.81%        hot\n",
      "12   23766.0   6.54%      sweet\n",
      "13   23218.0   6.39%       nice\n",
      "14   21381.0   5.89%        old\n",
      "15   21155.0   5.83%      happy\n",
      "16   20405.0   5.62%      fresh\n",
      "17   20259.0   5.58%     strong\n",
      "18   19747.0   5.44%    organic\n",
      "19   19712.0   5.43%       high\n",
      "20   19341.0   5.33%  different\n",
      "21   18859.0   5.19%      first\n",
      "22   18733.0   5.16%      local\n",
      "23   18620.0   5.13%    perfect\n",
      "24   18311.0   5.04%        big\n"
     ]
    }
   ],
   "source": [
    "# score 1-5 reviews with all users\n",
    "index = ['Phrase', 'Count', 'Occur %']\n",
    "\n",
    "for j in range(1,6):\n",
    "    test = pd.DataFrame()\n",
    "    d = get_token_adj(j, 0.05)\n",
    "    print('score {} reviews most popular adjectives word:'.format(j))\n",
    "    for i in d:\n",
    "        test = test.append(pd.Series(i, index = index), ignore_index = True)\n",
    "    test = test.sort_values('Count', ascending=False)\n",
    "    print(test)"
   ]
  },
  {
   "cell_type": "code",
   "execution_count": null,
   "metadata": {},
   "outputs": [],
   "source": []
  }
 ],
 "metadata": {
  "kernelspec": {
   "display_name": "Python 3",
   "language": "python",
   "name": "python3"
  },
  "language_info": {
   "codemirror_mode": {
    "name": "ipython",
    "version": 3
   },
   "file_extension": ".py",
   "mimetype": "text/x-python",
   "name": "python",
   "nbconvert_exporter": "python",
   "pygments_lexer": "ipython3",
   "version": "3.6.5"
  }
 },
 "nbformat": 4,
 "nbformat_minor": 4
}
